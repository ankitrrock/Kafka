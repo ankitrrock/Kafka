{
 "cells": [
  {
   "cell_type": "code",
   "execution_count": 2,
   "metadata": {},
   "outputs": [
    {
     "name": "stdout",
     "output_type": "stream",
     "text": [
      "Requirement already satisfied: confluent_kafka in /Users/apatadiya/anaconda3/lib/python3.10/site-packages (2.2.0)\n",
      "Note: you may need to restart the kernel to use updated packages.\n"
     ]
    }
   ],
   "source": [
    "%pip install confluent_kafka\n",
    "\n",
    "import json\n",
    "from confluent_kafka import Producer\n",
    "\n",
    "# this is sat server config\n",
    "def read_ccloud_config():\n",
    "    conf = {\n",
    "        \"bootstrap.servers\":\"\",\n",
    "        \"security.protocol\" : \"\",\n",
    "        \"sasl.mechanisms\":\"\",\n",
    "        \"sasl.username\":\"\",\n",
    "        \"sasl.password\":\"\"\n",
    "    }\n",
    "    return conf\n",
    "    \n",
    "\n",
    "def producer_send_data(data,topic):\n",
    "    producer = Producer(read_ccloud_config())\n",
    "    producer.produce(topic, value=json.dumps(data,default=str),headers={\"source\": \"cron\"})   \n",
    "    producer.poll(0)\n",
    "    producer.flush()\n"
   ]
  },
  {
   "cell_type": "code",
   "execution_count": 2,
   "metadata": {},
   "outputs": [],
   "source": [
    "# twitter\n",
    "payload = [\n",
    "    {\"user_id\": 1379, \"tiktok_user_id\": \"15427732\"},\n",
    "    {\"user_id\": 1484, \"tiktok_user_id\": \"1051815599569915905\"},\n",
    "    {\"user_id\": 2647, \"tiktok_user_id\": \"599253740\"},\n",
    "    {\"user_id\": 73760, \"tiktok_user_id\": \"_000bc9wOuX3O6OQktEen6wODHFANzxof-pD\"},\n",
    "    {\"user_id\": 73373, \"tiktok_user_id\": \"_000R0lXHQyEl2Bn07AUVw2Z54WvFEdxKBHt\"},\n",
    "    {\"user_id\": 73748, \"tiktok_user_id\": \"_000T-63ZCz3Qu7kRTUm63DrvYvqj8mmVf62\"},\n",
    "]\n",
    "for n in payload:\n",
    "    producer_send_data(n, topic=\"twitter_profiles\")\n",
    "    producer_send_data(n, topic=\"twitter_tweets\")\n",
    "    producer_send_data(n, topic=\"twitter_replies\")\n",
    "    producer_send_data(n, topic=\"twitter_likes\")"
   ]
  }
 ],
 "metadata": {
  "kernelspec": {
   "display_name": ".venv",
   "language": "python",
   "name": "python3"
  },
  "language_info": {
   "codemirror_mode": {
    "name": "ipython",
    "version": 3
   },
   "file_extension": ".py",
   "mimetype": "text/x-python",
   "name": "python",
   "nbconvert_exporter": "python",
   "pygments_lexer": "ipython3",
   "version": "3.10.9"
  },
  "orig_nbformat": 4
 },
 "nbformat": 4,
 "nbformat_minor": 2
}
